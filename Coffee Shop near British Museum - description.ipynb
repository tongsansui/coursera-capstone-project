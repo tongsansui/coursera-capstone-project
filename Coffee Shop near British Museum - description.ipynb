{
    "nbformat_minor": 1, 
    "cells": [
        {
            "source": "# Coffee Shop near British Museum\n\n## Project Description /  Introduction\n\n", 
            "cell_type": "markdown", 
            "metadata": {
                "collapsed": true
            }
        }, 
        {
            "source": "British Museum is the most famous museum in the world.  I have been to British Museum once and spent two days there enjoying awesome items from all over the world. Last time I didn't really care about the restaurant or coffee place nearby the British Museum, therefore i ate all two lunch times inside the Museum.    \n   \nSince I am planning to go the the Museum again and this time I would like to experience the coffee place nearby. I would like to have better lunch and enjoy the coffee nearby and then can go back to Museum easily and faster. In this project I am going to use the Foursquare location data to find out the most closed coffee place near the British Museum. ", 
            "cell_type": "markdown", 
            "metadata": {}
        }, 
        {
            "source": "", 
            "cell_type": "code", 
            "metadata": {}, 
            "outputs": [], 
            "execution_count": null
        }
    ], 
    "metadata": {
        "kernelspec": {
            "display_name": "Python 3.5", 
            "name": "python3", 
            "language": "python"
        }, 
        "language_info": {
            "mimetype": "text/x-python", 
            "nbconvert_exporter": "python", 
            "version": "3.5.5", 
            "name": "python", 
            "pygments_lexer": "ipython3", 
            "file_extension": ".py", 
            "codemirror_mode": {
                "version": 3, 
                "name": "ipython"
            }
        }
    }, 
    "nbformat": 4
}
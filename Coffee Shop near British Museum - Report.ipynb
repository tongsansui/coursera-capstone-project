{
    "nbformat_minor": 1, 
    "cells": [
        {
            "source": "# Coffee Shop near British Museum \n\nProject Report", 
            "cell_type": "markdown", 
            "metadata": {
                "collapsed": true
            }
        }, 
        {
            "source": "## Introduction", 
            "cell_type": "markdown", 
            "metadata": {}
        }, 
        {
            "source": "British Museum is the most famous museum in the world.  I have been to British Museum once and spent two days there enjoying awesome items from all over the world. Last time I didn't really care about the restaurant or coffee place nearby the British Museum, therefore i ate all two lunch times inside the Museum.  \n     \nSince I am planning to go the the Museum again and this time I would like to experience the coffee place nearby. I would like to have better lunch and enjoy the coffee nearby and then can go back to Museum easily and faster. In this project I am going to use the Foursquare location data to find out the most closed coffee place near the British Museum. ", 
            "cell_type": "markdown", 
            "metadata": {}
        }, 
        {
            "source": "## Data", 
            "cell_type": "markdown", 
            "metadata": {}
        }, 
        {
            "source": "The data in my project will be downloaded directly from Foursquare. \n+ First I will get the British Museum latitude and longitude. \n+ Second I will use URL to send a request to the Foursquare API to search for coffee place near the British Museum. \n+ Third I will clean the data and explore the shop in the map and cluster the shop in different groups", 
            "cell_type": "markdown", 
            "metadata": {}
        }, 
        {
            "source": "## Methodology", 
            "cell_type": "markdown", 
            "metadata": {}
        }, 
        {
            "source": "Coffee shop name, latitude, longitude and distance were requested from the Foursquare API server based on the British Museum location.  \n  \nPython Pandas library was used to manipulated the unstructed data into structured dataframe. \n  \nFoilum was used to explore the coffee shop location in the map. \n\nKMeans cluster was one of the machine learning techniques used to clasifty the coffee shop around the British Museum.   ", 
            "cell_type": "markdown", 
            "metadata": {}
        }, 
        {
            "source": "## Results", 
            "cell_type": "markdown", 
            "metadata": {}
        }, 
        {
            "source": "Cluster0 showed that there were 7 coffee shops near the Museum, in which the distance were between 208 - 263 m.   \n  \nCluster1 showed that there were 5 coffee shops near the Museum, in which the distance were between 329 - 399 m.  \n  \nCluster2 showed that there were 3 coffee shops near the Museum, in which the distance were between 130 - 180 m. ", 
            "cell_type": "markdown", 
            "metadata": {}
        }, 
        {
            "source": "## Discussion", 
            "cell_type": "markdown", 
            "metadata": {}
        }, 
        {
            "source": "If I want to chose the nearest coffee shop, I would go to Cluster3 group where are 180 meters nearby. The closest coffee shop is Coffee Lounge 2F.  \n  \nIf I want to chose the brand I knew, then I would go to Starbucks or Costa Coffee and they are located roughly 220 meters.  ", 
            "cell_type": "markdown", 
            "metadata": {}
        }, 
        {
            "source": "## Conclusion", 
            "cell_type": "markdown", 
            "metadata": {}
        }, 
        {
            "source": "Because I would like to try coffee from different brand or shop, I decided to go to the coffee shope in Cluster0 group, but not Starbucks and Costa Coffee. The Coffee & Gift sounds nice that I can drink coffee and also I could find some gift as well. And it is about 213 meters closed to British Museum. ", 
            "cell_type": "markdown", 
            "metadata": {}
        }
    ], 
    "metadata": {
        "kernelspec": {
            "display_name": "Python 3.5", 
            "name": "python3", 
            "language": "python"
        }, 
        "language_info": {
            "mimetype": "text/x-python", 
            "nbconvert_exporter": "python", 
            "version": "3.5.5", 
            "name": "python", 
            "pygments_lexer": "ipython3", 
            "file_extension": ".py", 
            "codemirror_mode": {
                "version": 3, 
                "name": "ipython"
            }
        }
    }, 
    "nbformat": 4
}
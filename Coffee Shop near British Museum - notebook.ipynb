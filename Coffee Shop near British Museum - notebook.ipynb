{
    "nbformat_minor": 1, 
    "cells": [
        {
            "source": "# Coffee Shop near British Museum\n## Download Data", 
            "cell_type": "markdown", 
            "metadata": {}
        }, 
        {
            "source": "# import necessary libraries\nimport pandas as pd\nimport numpy as np\nimport json\n\n!conda install -c conda-forge geopy --yes\nfrom geopy.geocoders import Nominatim\n\nimport requests\nfrom pandas.io.json import json_normalize\n\nimport matplotlib.cm as cm\nimport matplotlib.colors as colors\n\nfrom sklearn.cluster import KMeans\n\n!conda install -c conda-forge folium=0.5.0 --yes\nimport folium", 
            "cell_type": "code", 
            "metadata": {}, 
            "outputs": [
                {
                    "output_type": "stream", 
                    "name": "stdout", 
                    "text": "Fetching package metadata .............\nSolving package specifications: .\n\n# All requested packages already installed.\n# packages in environment at /opt/conda/envs/DSX-Python35:\n#\ngeopy                     1.18.1                     py_0    conda-forge\nFetching package metadata .............\nSolving package specifications: "
                }
            ], 
            "execution_count": null
        }, 
        {
            "source": "### Define Foursquare Credentials and Version", 
            "cell_type": "markdown", 
            "metadata": {
                "collapsed": true
            }
        }, 
        {
            "source": "CLIENT_ID = 'HCIWEYMLE0SJAI3ESV4AFX5PNQVBSLP5HQ1YU4GISAHHRIFV' # your Foursquare ID\nCLIENT_SECRET = 'P4KVBEVJDIVREULUPIZHUL124JX353PUIP5KWJOGX1PLDB5B' # your Foursquare Secret\nVERSION = '20180604'\nLIMIT = 50", 
            "cell_type": "code", 
            "metadata": {}, 
            "outputs": [], 
            "execution_count": null
        }, 
        {
            "source": "### Search for a specific venue category\n\n#### Find British Museum's latitude and longitude", 
            "cell_type": "markdown", 
            "metadata": {}
        }, 
        {
            "source": "address = 'Great Russell St, Bloomsbury, London WC1B 3DG, UK'\n\ngeolocator = Nominatim()\nlocation = geolocator.geocode(address)\nlatitude = location.latitude\nlongitude = location.longitude\nprint(latitude, longitude)", 
            "cell_type": "code", 
            "metadata": {}, 
            "outputs": [], 
            "execution_count": null
        }, 
        {
            "source": "#### Search for coffee that is within 500 metres from the British Museum and define the corresponding URL", 
            "cell_type": "markdown", 
            "metadata": {}
        }, 
        {
            "source": "search_query = 'coffee'\nradius = 500\nurl = 'https://api.foursquare.com/v2/venues/search?client_id={}&client_secret={}&ll={},{}&v={}&query={}&radius={}&limit={}'.format(CLIENT_ID, CLIENT_SECRET, latitude, longitude, VERSION, search_query, radius, LIMIT)\nurl", 
            "cell_type": "code", 
            "metadata": {}, 
            "outputs": [], 
            "execution_count": null
        }, 
        {
            "source": "#### Send the GET Request and examine the results", 
            "cell_type": "markdown", 
            "metadata": {}
        }, 
        {
            "source": "results = requests.get(url).json()\nresults", 
            "cell_type": "code", 
            "metadata": {}, 
            "outputs": [], 
            "execution_count": null
        }, 
        {
            "source": "#### get relevant part of JSON and transform it into a pandas dataframe", 
            "cell_type": "markdown", 
            "metadata": {}
        }, 
        {
            "source": "# assign relevant part of JSON to venues\nvenues = results['response']['venues']\n\n# transform venues into a dataframe\ndataframe = json_normalize(venues)\ndataframe.head()", 
            "cell_type": "code", 
            "metadata": {}, 
            "outputs": [], 
            "execution_count": null
        }, 
        {
            "source": "#### Define information of interest and filter dataframe", 
            "cell_type": "markdown", 
            "metadata": {}
        }, 
        {
            "source": "# keep only columns that include venue name, and anything that is associated with location\nfiltered_columns = ['name', 'categories'] + [col for col in dataframe.columns if col.startswith('location.')]\ndataframe_filtered = dataframe.loc[:, filtered_columns]\n\n# function that extracts the category of the venue\ndef get_category_type(row):\n    try:\n        categories_list = row['categories']\n    except:\n        categories_list = row['venue.categories']\n        \n    if len(categories_list) == 0:\n        return None\n    else:\n        return categories_list[0]['name']\n\n# filter the category for each row\ndataframe_filtered['categories'] = dataframe_filtered.apply(get_category_type, axis=1)\n\n# clean column names by keeping only last term\ndataframe_filtered.columns = [column.split('.')[-1] for column in dataframe_filtered.columns]\n\ndataframe_filtered", 
            "cell_type": "code", 
            "metadata": {}, 
            "outputs": [], 
            "execution_count": null
        }, 
        {
            "source": "#### DataFrame Pre-processing", 
            "cell_type": "markdown", 
            "metadata": {}
        }, 
        {
            "source": "# remove rows with distance > 500 m\ndataframe_filtered = dataframe_filtered[dataframe_filtered[('distance')]<=500]\ndataframe_filtered.reset_index(drop=True,inplace=True)\n\ndataframe_filtered", 
            "cell_type": "code", 
            "metadata": {}, 
            "outputs": [], 
            "execution_count": null
        }, 
        {
            "source": "Seems like there are quite many coffee shops in radius 500m. Try to reduce to 400 m distance. ", 
            "cell_type": "markdown", 
            "metadata": {}
        }, 
        {
            "source": "# remove rows with distance > 400 m\ndataframe_filtered = dataframe_filtered[dataframe_filtered[('distance')]<=400]\ndataframe_filtered.reset_index(drop=True,inplace=True)\n\ndataframe_filtered", 
            "cell_type": "code", 
            "metadata": {}, 
            "outputs": [], 
            "execution_count": null
        }, 
        {
            "source": "Seems like now the amount of coffee shop is suitable for me.     \nLet me check the data columns", 
            "cell_type": "markdown", 
            "metadata": {}
        }, 
        {
            "source": "dataframe_filtered.columns", 
            "cell_type": "code", 
            "metadata": {}, 
            "outputs": [], 
            "execution_count": null
        }, 
        {
            "source": "There are too many unnecessary columns in the dataframe. Only extract the information I need, including coffee shope name, latitude, longitude, and distance to British Museum.", 
            "cell_type": "markdown", 
            "metadata": {}
        }, 
        {
            "source": "coffee_shop = dataframe_filtered[['name','lat','lng','distance']]\ncoffee_shop", 
            "cell_type": "code", 
            "metadata": {
                "scrolled": true
            }, 
            "outputs": [], 
            "execution_count": null
        }, 
        {
            "source": "## Explore coffee shop in the map", 
            "cell_type": "markdown", 
            "metadata": {}
        }, 
        {
            "source": "venues_map = folium.Map(location=[51.5184748, -0.1281749], zoom_start=15) # generate map centred around the British Museum\n\n# add a red circle marker to represent the Museum\nfolium.features.CircleMarker(\n    [latitude, longitude],\n    radius=10,\n    color='red',\n    popup='British Museum',\n    fill = True,\n    fill_color = 'red',\n    fill_opacity = 0.6\n).add_to(venues_map)\n\n# add the Italian restaurants as blue circle markers\nfor lat, lng, label in zip(dataframe_filtered.lat, dataframe_filtered.lng, dataframe_filtered.categories):\n    folium.features.CircleMarker(\n        [lat, lng],\n        radius=5,\n        color='blue',\n        popup=label,\n        fill = True,\n        fill_color='blue',\n        fill_opacity=0.6\n    ).add_to(venues_map)\n\n# display map\nvenues_map", 
            "cell_type": "code", 
            "metadata": {
                "scrolled": false
            }, 
            "outputs": [], 
            "execution_count": null
        }, 
        {
            "source": "## Clustser the shop", 
            "cell_type": "markdown", 
            "metadata": {}
        }, 
        {
            "source": "# set number of clusters\nkclusters = 3\n\ncoffee_shop_clustering = coffee_shop.drop('name', 1)\n\n# run k-means clustering\nkmeans = KMeans(n_clusters=kclusters, random_state=0).fit(coffee_shop_clustering)\n\n# check cluster labels generated for each row in the dataframe\nkmeans.labels_[0:10] ", 
            "cell_type": "code", 
            "metadata": {}, 
            "outputs": [], 
            "execution_count": null
        }, 
        {
            "source": "Cluster_Labels = pd.Series(kmeans.labels_)\ncoffee_shop = coffee_shop.assign(Cluster_Labels=Cluster_Labels.values)\ncoffee_shop.head()", 
            "cell_type": "code", 
            "metadata": {}, 
            "outputs": [], 
            "execution_count": null
        }, 
        {
            "source": "## Visualize the resulting clusters", 
            "cell_type": "markdown", 
            "metadata": {}
        }, 
        {
            "source": "# create map\nmap_clusters = folium.Map(location=[51.5184748, -0.1281749], zoom_start=15)\n\n# add a red circle marker to represent the Conrad Hotel\nfolium.features.CircleMarker(\n    [latitude, longitude],\n    radius=15,\n    color='red',\n    popup='British Museum',\n    fill = True,\n    fill_color = 'red',\n    fill_opacity = 0.6\n).add_to(map_clusters)\n\n\n\n# set color scheme for the clusters\nx = np.arange(kclusters)\nys = [i+x+(i*x)**2 for i in range(kclusters)]\ncolors_array = cm.rainbow(np.linspace(0, 1, len(ys)))\nrainbow = [colors.rgb2hex(i) for i in colors_array]\n\n# add markers to the map\nmarkers_colors = []\nfor lat, lon, poi, cluster in zip(coffee_shop['lat'], coffee_shop['lng'], \n                                  coffee_shop['name'], \n                                  coffee_shop['Cluster_Labels']):\n    label = folium.Popup(str(poi) + ' Cluster ' + str(cluster), parse_html=True)\n    folium.CircleMarker(\n        [lat, lon],\n        radius=7,\n        popup=label,\n        color=rainbow[cluster-1],\n        fill=True,\n        fill_color=rainbow[cluster-1],\n        fill_opacity=1).add_to(map_clusters)\n       \nmap_clusters", 
            "cell_type": "code", 
            "metadata": {
                "scrolled": false
            }, 
            "outputs": [], 
            "execution_count": null
        }, 
        {
            "source": "## Examine Clusters", 
            "cell_type": "markdown", 
            "metadata": {}
        }, 
        {
            "source": "Cluster0 = coffee_shop.loc[coffee_shop['Cluster_Labels'] == 0, coffee_shop.columns[[0,1,2,3] + list(range(5, coffee_shop.shape[1]))]]\nCluster0", 
            "cell_type": "code", 
            "metadata": {}, 
            "outputs": [], 
            "execution_count": null
        }, 
        {
            "source": "Cluster1 = coffee_shop.loc[coffee_shop['Cluster_Labels'] == 1, coffee_shop.columns[[0,1,2,3] + list(range(5, coffee_shop.shape[1]))]]\nCluster1", 
            "cell_type": "code", 
            "metadata": {}, 
            "outputs": [], 
            "execution_count": null
        }, 
        {
            "source": "Cluster2 = coffee_shop.loc[coffee_shop['Cluster_Labels'] == 2, coffee_shop.columns[[0,1,2,3] + list(range(5, coffee_shop.shape[1]))]]\nCluster2", 
            "cell_type": "code", 
            "metadata": {}, 
            "outputs": [], 
            "execution_count": null
        }, 
        {
            "source": "", 
            "cell_type": "code", 
            "metadata": {}, 
            "outputs": [], 
            "execution_count": null
        }
    ], 
    "metadata": {
        "kernelspec": {
            "display_name": "Python 3.5", 
            "name": "python3", 
            "language": "python"
        }, 
        "language_info": {
            "mimetype": "text/x-python", 
            "nbconvert_exporter": "python", 
            "version": "3.5.5", 
            "name": "python", 
            "pygments_lexer": "ipython3", 
            "file_extension": ".py", 
            "codemirror_mode": {
                "version": 3, 
                "name": "ipython"
            }
        }
    }, 
    "nbformat": 4
}